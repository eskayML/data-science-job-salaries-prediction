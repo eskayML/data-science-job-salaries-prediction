{
 "cells": [
  {
   "cell_type": "code",
   "execution_count": 1,
   "id": "c29b9f32",
   "metadata": {
    "ExecuteTime": {
     "end_time": "2022-10-21T10:56:01.475981Z",
     "start_time": "2022-10-21T10:55:45.413522Z"
    }
   },
   "outputs": [],
   "source": [
    "import pandas as pd,numpy as np\n",
    "df = pd.read_csv('C:/Users/samuel/Documents/Data Science Jobs Salaries.csv')"
   ]
  },
  {
   "cell_type": "code",
   "execution_count": 2,
   "id": "81c2c6dd",
   "metadata": {
    "ExecuteTime": {
     "end_time": "2022-10-21T10:56:09.459156Z",
     "start_time": "2022-10-21T10:56:09.367318Z"
    }
   },
   "outputs": [
    {
     "data": {
      "text/html": [
       "<div>\n",
       "<style scoped>\n",
       "    .dataframe tbody tr th:only-of-type {\n",
       "        vertical-align: middle;\n",
       "    }\n",
       "\n",
       "    .dataframe tbody tr th {\n",
       "        vertical-align: top;\n",
       "    }\n",
       "\n",
       "    .dataframe thead th {\n",
       "        text-align: right;\n",
       "    }\n",
       "</style>\n",
       "<table border=\"1\" class=\"dataframe\">\n",
       "  <thead>\n",
       "    <tr style=\"text-align: right;\">\n",
       "      <th></th>\n",
       "      <th>work_year</th>\n",
       "      <th>experience_level</th>\n",
       "      <th>employment_type</th>\n",
       "      <th>job_title</th>\n",
       "      <th>salary</th>\n",
       "      <th>salary_currency</th>\n",
       "      <th>salary_in_usd</th>\n",
       "      <th>employee_residence</th>\n",
       "      <th>remote_ratio</th>\n",
       "      <th>company_location</th>\n",
       "      <th>company_size</th>\n",
       "    </tr>\n",
       "  </thead>\n",
       "  <tbody>\n",
       "    <tr>\n",
       "      <th>0</th>\n",
       "      <td>2021e</td>\n",
       "      <td>EN</td>\n",
       "      <td>FT</td>\n",
       "      <td>Data Science Consultant</td>\n",
       "      <td>54000</td>\n",
       "      <td>EUR</td>\n",
       "      <td>64369</td>\n",
       "      <td>DE</td>\n",
       "      <td>50</td>\n",
       "      <td>DE</td>\n",
       "      <td>L</td>\n",
       "    </tr>\n",
       "    <tr>\n",
       "      <th>1</th>\n",
       "      <td>2020</td>\n",
       "      <td>SE</td>\n",
       "      <td>FT</td>\n",
       "      <td>Data Scientist</td>\n",
       "      <td>60000</td>\n",
       "      <td>EUR</td>\n",
       "      <td>68428</td>\n",
       "      <td>GR</td>\n",
       "      <td>100</td>\n",
       "      <td>US</td>\n",
       "      <td>L</td>\n",
       "    </tr>\n",
       "    <tr>\n",
       "      <th>2</th>\n",
       "      <td>2021e</td>\n",
       "      <td>EX</td>\n",
       "      <td>FT</td>\n",
       "      <td>Head of Data Science</td>\n",
       "      <td>85000</td>\n",
       "      <td>USD</td>\n",
       "      <td>85000</td>\n",
       "      <td>RU</td>\n",
       "      <td>0</td>\n",
       "      <td>RU</td>\n",
       "      <td>M</td>\n",
       "    </tr>\n",
       "    <tr>\n",
       "      <th>3</th>\n",
       "      <td>2021e</td>\n",
       "      <td>EX</td>\n",
       "      <td>FT</td>\n",
       "      <td>Head of Data</td>\n",
       "      <td>230000</td>\n",
       "      <td>USD</td>\n",
       "      <td>230000</td>\n",
       "      <td>RU</td>\n",
       "      <td>50</td>\n",
       "      <td>RU</td>\n",
       "      <td>L</td>\n",
       "    </tr>\n",
       "    <tr>\n",
       "      <th>4</th>\n",
       "      <td>2021e</td>\n",
       "      <td>EN</td>\n",
       "      <td>FT</td>\n",
       "      <td>Machine Learning Engineer</td>\n",
       "      <td>125000</td>\n",
       "      <td>USD</td>\n",
       "      <td>125000</td>\n",
       "      <td>US</td>\n",
       "      <td>100</td>\n",
       "      <td>US</td>\n",
       "      <td>S</td>\n",
       "    </tr>\n",
       "  </tbody>\n",
       "</table>\n",
       "</div>"
      ],
      "text/plain": [
       "  work_year experience_level employment_type                  job_title  \\\n",
       "0     2021e               EN              FT    Data Science Consultant   \n",
       "1      2020               SE              FT             Data Scientist   \n",
       "2     2021e               EX              FT       Head of Data Science   \n",
       "3     2021e               EX              FT               Head of Data   \n",
       "4     2021e               EN              FT  Machine Learning Engineer   \n",
       "\n",
       "   salary salary_currency  salary_in_usd employee_residence  remote_ratio  \\\n",
       "0   54000             EUR          64369                 DE            50   \n",
       "1   60000             EUR          68428                 GR           100   \n",
       "2   85000             USD          85000                 RU             0   \n",
       "3  230000             USD         230000                 RU            50   \n",
       "4  125000             USD         125000                 US           100   \n",
       "\n",
       "  company_location company_size  \n",
       "0               DE            L  \n",
       "1               US            L  \n",
       "2               RU            M  \n",
       "3               RU            L  \n",
       "4               US            S  "
      ]
     },
     "execution_count": 2,
     "metadata": {},
     "output_type": "execute_result"
    }
   ],
   "source": [
    "df.head()"
   ]
  },
  {
   "cell_type": "code",
   "execution_count": 3,
   "id": "7f3f0932",
   "metadata": {
    "ExecuteTime": {
     "end_time": "2022-10-21T10:56:15.691839Z",
     "start_time": "2022-10-21T10:56:15.398714Z"
    }
   },
   "outputs": [
    {
     "name": "stdout",
     "output_type": "stream",
     "text": [
      "<class 'pandas.core.frame.DataFrame'>\n",
      "RangeIndex: 245 entries, 0 to 244\n",
      "Data columns (total 11 columns):\n",
      " #   Column              Non-Null Count  Dtype \n",
      "---  ------              --------------  ----- \n",
      " 0   work_year           245 non-null    object\n",
      " 1   experience_level    245 non-null    object\n",
      " 2   employment_type     245 non-null    object\n",
      " 3   job_title           245 non-null    object\n",
      " 4   salary              245 non-null    int64 \n",
      " 5   salary_currency     245 non-null    object\n",
      " 6   salary_in_usd       245 non-null    int64 \n",
      " 7   employee_residence  245 non-null    object\n",
      " 8   remote_ratio        245 non-null    int64 \n",
      " 9   company_location    245 non-null    object\n",
      " 10  company_size        245 non-null    object\n",
      "dtypes: int64(3), object(8)\n",
      "memory usage: 21.2+ KB\n"
     ]
    }
   ],
   "source": [
    "df.info()"
   ]
  },
  {
   "cell_type": "markdown",
   "id": "3264a8ea",
   "metadata": {},
   "source": [
    "Fortunately for us, there are no missing values in the dataset, so we need not  worry about data imputation"
   ]
  },
  {
   "cell_type": "code",
   "execution_count": 5,
   "id": "0ffae8f2",
   "metadata": {
    "ExecuteTime": {
     "end_time": "2022-10-21T11:00:36.798253Z",
     "start_time": "2022-10-21T10:59:37.151499Z"
    }
   },
   "outputs": [
    {
     "data": {
      "application/vnd.jupyter.widget-view+json": {
       "model_id": "69f76da6c64e4565b6557a8a0b19b789",
       "version_major": 2,
       "version_minor": 0
      },
      "text/plain": [
       "Summarize dataset:   0%|          | 0/5 [00:00<?, ?it/s]"
      ]
     },
     "metadata": {},
     "output_type": "display_data"
    },
    {
     "data": {
      "application/vnd.jupyter.widget-view+json": {
       "model_id": "a6fb51bc75054b90a9911958161daf35",
       "version_major": 2,
       "version_minor": 0
      },
      "text/plain": [
       "Generate report structure:   0%|          | 0/1 [00:00<?, ?it/s]"
      ]
     },
     "metadata": {},
     "output_type": "display_data"
    },
    {
     "data": {
      "application/vnd.jupyter.widget-view+json": {
       "model_id": "5058c942366b403ba75378b7172319e7",
       "version_major": 2,
       "version_minor": 0
      },
      "text/plain": [
       "Render HTML:   0%|          | 0/1 [00:00<?, ?it/s]"
      ]
     },
     "metadata": {},
     "output_type": "display_data"
    },
    {
     "data": {
      "application/vnd.jupyter.widget-view+json": {
       "model_id": "54d58ce82b0a48d4b5080a2ea4fe4bc2",
       "version_major": 2,
       "version_minor": 0
      },
      "text/plain": [
       "Export report to file:   0%|          | 0/1 [00:00<?, ?it/s]"
      ]
     },
     "metadata": {},
     "output_type": "display_data"
    }
   ],
   "source": [
    "from pandas_profiling import ProfileReport\n",
    "profile = ProfileReport(df=f,title=\"Data science jobs report\")\n",
    "profile.to_file(output_file=\"ds_jobs_report.html\")"
   ]
  },
  {
   "cell_type": "markdown",
   "id": "ed7f0793",
   "metadata": {},
   "source": [
    "### Inferences from the data exploration\n",
    "\n",
    "1. The data was collected just over the course of two years. i.e just 2020 and 2021 tech salaries in data science\n",
    "\n",
    "2. The majority of the samples are people of medium level experience(MI) and executive level(EX) are the lowest in number\n",
    "\n",
    "3. over 94% of the samples here work fulltime roles.\n",
    "\n",
    "4. The data scientist job title is the most common .\n",
    "\n",
    "5. The median salary is $81k\n",
    "\n",
    "\n"
   ]
  },
  {
   "cell_type": "code",
   "execution_count": 6,
   "id": "4919e927",
   "metadata": {
    "ExecuteTime": {
     "end_time": "2022-10-21T11:14:43.851925Z",
     "start_time": "2022-10-21T11:14:43.842964Z"
    }
   },
   "outputs": [
    {
     "data": {
      "text/plain": [
       "Index(['work_year', 'experience_level', 'employment_type', 'job_title',\n",
       "       'salary', 'salary_currency', 'salary_in_usd', 'employee_residence',\n",
       "       'remote_ratio', 'company_location', 'company_size'],\n",
       "      dtype='object')"
      ]
     },
     "execution_count": 6,
     "metadata": {},
     "output_type": "execute_result"
    }
   ],
   "source": [
    "df.columns"
   ]
  },
  {
   "cell_type": "code",
   "execution_count": 7,
   "id": "9719e5c5",
   "metadata": {
    "ExecuteTime": {
     "end_time": "2022-10-21T11:20:16.599752Z",
     "start_time": "2022-10-21T11:20:16.589745Z"
    }
   },
   "outputs": [],
   "source": [
    "df.drop_duplicates(inplace=True)"
   ]
  },
  {
   "cell_type": "code",
   "execution_count": 8,
   "id": "0135e01a",
   "metadata": {
    "ExecuteTime": {
     "end_time": "2022-10-21T11:20:24.996517Z",
     "start_time": "2022-10-21T11:20:24.989509Z"
    }
   },
   "outputs": [
    {
     "data": {
      "text/plain": [
       "(244, 11)"
      ]
     },
     "execution_count": 8,
     "metadata": {},
     "output_type": "execute_result"
    }
   ],
   "source": [
    "df.shape"
   ]
  },
  {
   "cell_type": "code",
   "execution_count": 9,
   "id": "3cb28f8a",
   "metadata": {
    "ExecuteTime": {
     "end_time": "2022-10-21T11:22:28.542008Z",
     "start_time": "2022-10-21T11:22:28.536895Z"
    }
   },
   "outputs": [],
   "source": [
    "cat_cols = df.columns.difference(['remote_ratio','salary_in_usd','salary'])"
   ]
  },
  {
   "cell_type": "code",
   "execution_count": 10,
   "id": "531fa291",
   "metadata": {
    "ExecuteTime": {
     "end_time": "2022-10-21T11:22:31.996306Z",
     "start_time": "2022-10-21T11:22:31.989304Z"
    }
   },
   "outputs": [
    {
     "data": {
      "text/plain": [
       "Index(['company_location', 'company_size', 'employee_residence',\n",
       "       'employment_type', 'experience_level', 'job_title', 'salary_currency',\n",
       "       'work_year'],\n",
       "      dtype='object')"
      ]
     },
     "execution_count": 10,
     "metadata": {},
     "output_type": "execute_result"
    }
   ],
   "source": [
    "cat_cols"
   ]
  },
  {
   "cell_type": "markdown",
   "id": "39fb168a",
   "metadata": {},
   "source": [
    "Label Encoding for all columns"
   ]
  },
  {
   "cell_type": "code",
   "execution_count": 11,
   "id": "2457373e",
   "metadata": {
    "ExecuteTime": {
     "end_time": "2022-10-21T11:24:10.919699Z",
     "start_time": "2022-10-21T11:24:10.867731Z"
    }
   },
   "outputs": [],
   "source": [
    "for i in cat_cols:\n",
    "    df[i] = df[i].astype('category')\n",
    "    df[i] = df[i].cat.codes\n",
    "    "
   ]
  },
  {
   "cell_type": "code",
   "execution_count": 12,
   "id": "09d9bd3e",
   "metadata": {
    "ExecuteTime": {
     "end_time": "2022-10-21T11:24:15.775225Z",
     "start_time": "2022-10-21T11:24:15.756228Z"
    }
   },
   "outputs": [
    {
     "data": {
      "text/html": [
       "<div>\n",
       "<style scoped>\n",
       "    .dataframe tbody tr th:only-of-type {\n",
       "        vertical-align: middle;\n",
       "    }\n",
       "\n",
       "    .dataframe tbody tr th {\n",
       "        vertical-align: top;\n",
       "    }\n",
       "\n",
       "    .dataframe thead th {\n",
       "        text-align: right;\n",
       "    }\n",
       "</style>\n",
       "<table border=\"1\" class=\"dataframe\">\n",
       "  <thead>\n",
       "    <tr style=\"text-align: right;\">\n",
       "      <th></th>\n",
       "      <th>work_year</th>\n",
       "      <th>experience_level</th>\n",
       "      <th>employment_type</th>\n",
       "      <th>job_title</th>\n",
       "      <th>salary</th>\n",
       "      <th>salary_currency</th>\n",
       "      <th>salary_in_usd</th>\n",
       "      <th>employee_residence</th>\n",
       "      <th>remote_ratio</th>\n",
       "      <th>company_location</th>\n",
       "      <th>company_size</th>\n",
       "    </tr>\n",
       "  </thead>\n",
       "  <tbody>\n",
       "    <tr>\n",
       "      <th>0</th>\n",
       "      <td>1</td>\n",
       "      <td>0</td>\n",
       "      <td>2</td>\n",
       "      <td>17</td>\n",
       "      <td>54000</td>\n",
       "      <td>5</td>\n",
       "      <td>64369</td>\n",
       "      <td>9</td>\n",
       "      <td>50</td>\n",
       "      <td>10</td>\n",
       "      <td>0</td>\n",
       "    </tr>\n",
       "    <tr>\n",
       "      <th>1</th>\n",
       "      <td>0</td>\n",
       "      <td>3</td>\n",
       "      <td>2</td>\n",
       "      <td>20</td>\n",
       "      <td>60000</td>\n",
       "      <td>5</td>\n",
       "      <td>68428</td>\n",
       "      <td>14</td>\n",
       "      <td>100</td>\n",
       "      <td>39</td>\n",
       "      <td>0</td>\n",
       "    </tr>\n",
       "    <tr>\n",
       "      <th>2</th>\n",
       "      <td>1</td>\n",
       "      <td>1</td>\n",
       "      <td>2</td>\n",
       "      <td>27</td>\n",
       "      <td>85000</td>\n",
       "      <td>14</td>\n",
       "      <td>85000</td>\n",
       "      <td>38</td>\n",
       "      <td>0</td>\n",
       "      <td>34</td>\n",
       "      <td>1</td>\n",
       "    </tr>\n",
       "    <tr>\n",
       "      <th>3</th>\n",
       "      <td>1</td>\n",
       "      <td>1</td>\n",
       "      <td>2</td>\n",
       "      <td>26</td>\n",
       "      <td>230000</td>\n",
       "      <td>14</td>\n",
       "      <td>230000</td>\n",
       "      <td>38</td>\n",
       "      <td>50</td>\n",
       "      <td>34</td>\n",
       "      <td>0</td>\n",
       "    </tr>\n",
       "    <tr>\n",
       "      <th>4</th>\n",
       "      <td>1</td>\n",
       "      <td>0</td>\n",
       "      <td>2</td>\n",
       "      <td>32</td>\n",
       "      <td>125000</td>\n",
       "      <td>14</td>\n",
       "      <td>125000</td>\n",
       "      <td>43</td>\n",
       "      <td>100</td>\n",
       "      <td>39</td>\n",
       "      <td>2</td>\n",
       "    </tr>\n",
       "  </tbody>\n",
       "</table>\n",
       "</div>"
      ],
      "text/plain": [
       "   work_year  experience_level  employment_type  job_title  salary  \\\n",
       "0          1                 0                2         17   54000   \n",
       "1          0                 3                2         20   60000   \n",
       "2          1                 1                2         27   85000   \n",
       "3          1                 1                2         26  230000   \n",
       "4          1                 0                2         32  125000   \n",
       "\n",
       "   salary_currency  salary_in_usd  employee_residence  remote_ratio  \\\n",
       "0                5          64369                   9            50   \n",
       "1                5          68428                  14           100   \n",
       "2               14          85000                  38             0   \n",
       "3               14         230000                  38            50   \n",
       "4               14         125000                  43           100   \n",
       "\n",
       "   company_location  company_size  \n",
       "0                10             0  \n",
       "1                39             0  \n",
       "2                34             1  \n",
       "3                34             0  \n",
       "4                39             2  "
      ]
     },
     "execution_count": 12,
     "metadata": {},
     "output_type": "execute_result"
    }
   ],
   "source": [
    "df.head()"
   ]
  },
  {
   "cell_type": "markdown",
   "id": "181e9643",
   "metadata": {},
   "source": [
    "Performing one hot encoding on columns with low cardinality"
   ]
  },
  {
   "cell_type": "code",
   "execution_count": 16,
   "id": "9593efab",
   "metadata": {
    "ExecuteTime": {
     "end_time": "2022-10-21T11:27:12.198776Z",
     "start_time": "2022-10-21T11:27:12.183812Z"
    }
   },
   "outputs": [
    {
     "name": "stdout",
     "output_type": "stream",
     "text": [
      "company_location 41\n",
      "company_size 3\n",
      "employee_residence 45\n",
      "employment_type 4\n",
      "experience_level 4\n",
      "job_title 43\n",
      "salary_currency 15\n",
      "work_year 2\n"
     ]
    }
   ],
   "source": [
    "for i in cat_cols:\n",
    "    print(i , df[i].nunique())"
   ]
  },
  {
   "cell_type": "code",
   "execution_count": 17,
   "id": "ffbd9af4",
   "metadata": {
    "ExecuteTime": {
     "end_time": "2022-10-21T11:28:24.733362Z",
     "start_time": "2022-10-21T11:28:24.717350Z"
    }
   },
   "outputs": [],
   "source": [
    "df = pd.get_dummies(df, columns=['company_size', 'work_year', 'employment_type','experience_level' ])"
   ]
  },
  {
   "cell_type": "code",
   "execution_count": 18,
   "id": "74d36d8b",
   "metadata": {
    "ExecuteTime": {
     "end_time": "2022-10-21T11:28:27.894532Z",
     "start_time": "2022-10-21T11:28:27.870542Z"
    }
   },
   "outputs": [
    {
     "data": {
      "text/html": [
       "<div>\n",
       "<style scoped>\n",
       "    .dataframe tbody tr th:only-of-type {\n",
       "        vertical-align: middle;\n",
       "    }\n",
       "\n",
       "    .dataframe tbody tr th {\n",
       "        vertical-align: top;\n",
       "    }\n",
       "\n",
       "    .dataframe thead th {\n",
       "        text-align: right;\n",
       "    }\n",
       "</style>\n",
       "<table border=\"1\" class=\"dataframe\">\n",
       "  <thead>\n",
       "    <tr style=\"text-align: right;\">\n",
       "      <th></th>\n",
       "      <th>job_title</th>\n",
       "      <th>salary</th>\n",
       "      <th>salary_currency</th>\n",
       "      <th>salary_in_usd</th>\n",
       "      <th>employee_residence</th>\n",
       "      <th>remote_ratio</th>\n",
       "      <th>company_location</th>\n",
       "      <th>company_size_0</th>\n",
       "      <th>company_size_1</th>\n",
       "      <th>company_size_2</th>\n",
       "      <th>work_year_0</th>\n",
       "      <th>work_year_1</th>\n",
       "      <th>employment_type_0</th>\n",
       "      <th>employment_type_1</th>\n",
       "      <th>employment_type_2</th>\n",
       "      <th>employment_type_3</th>\n",
       "      <th>experience_level_0</th>\n",
       "      <th>experience_level_1</th>\n",
       "      <th>experience_level_2</th>\n",
       "      <th>experience_level_3</th>\n",
       "    </tr>\n",
       "  </thead>\n",
       "  <tbody>\n",
       "    <tr>\n",
       "      <th>0</th>\n",
       "      <td>17</td>\n",
       "      <td>54000</td>\n",
       "      <td>5</td>\n",
       "      <td>64369</td>\n",
       "      <td>9</td>\n",
       "      <td>50</td>\n",
       "      <td>10</td>\n",
       "      <td>1</td>\n",
       "      <td>0</td>\n",
       "      <td>0</td>\n",
       "      <td>0</td>\n",
       "      <td>1</td>\n",
       "      <td>0</td>\n",
       "      <td>0</td>\n",
       "      <td>1</td>\n",
       "      <td>0</td>\n",
       "      <td>1</td>\n",
       "      <td>0</td>\n",
       "      <td>0</td>\n",
       "      <td>0</td>\n",
       "    </tr>\n",
       "    <tr>\n",
       "      <th>1</th>\n",
       "      <td>20</td>\n",
       "      <td>60000</td>\n",
       "      <td>5</td>\n",
       "      <td>68428</td>\n",
       "      <td>14</td>\n",
       "      <td>100</td>\n",
       "      <td>39</td>\n",
       "      <td>1</td>\n",
       "      <td>0</td>\n",
       "      <td>0</td>\n",
       "      <td>1</td>\n",
       "      <td>0</td>\n",
       "      <td>0</td>\n",
       "      <td>0</td>\n",
       "      <td>1</td>\n",
       "      <td>0</td>\n",
       "      <td>0</td>\n",
       "      <td>0</td>\n",
       "      <td>0</td>\n",
       "      <td>1</td>\n",
       "    </tr>\n",
       "    <tr>\n",
       "      <th>2</th>\n",
       "      <td>27</td>\n",
       "      <td>85000</td>\n",
       "      <td>14</td>\n",
       "      <td>85000</td>\n",
       "      <td>38</td>\n",
       "      <td>0</td>\n",
       "      <td>34</td>\n",
       "      <td>0</td>\n",
       "      <td>1</td>\n",
       "      <td>0</td>\n",
       "      <td>0</td>\n",
       "      <td>1</td>\n",
       "      <td>0</td>\n",
       "      <td>0</td>\n",
       "      <td>1</td>\n",
       "      <td>0</td>\n",
       "      <td>0</td>\n",
       "      <td>1</td>\n",
       "      <td>0</td>\n",
       "      <td>0</td>\n",
       "    </tr>\n",
       "    <tr>\n",
       "      <th>3</th>\n",
       "      <td>26</td>\n",
       "      <td>230000</td>\n",
       "      <td>14</td>\n",
       "      <td>230000</td>\n",
       "      <td>38</td>\n",
       "      <td>50</td>\n",
       "      <td>34</td>\n",
       "      <td>1</td>\n",
       "      <td>0</td>\n",
       "      <td>0</td>\n",
       "      <td>0</td>\n",
       "      <td>1</td>\n",
       "      <td>0</td>\n",
       "      <td>0</td>\n",
       "      <td>1</td>\n",
       "      <td>0</td>\n",
       "      <td>0</td>\n",
       "      <td>1</td>\n",
       "      <td>0</td>\n",
       "      <td>0</td>\n",
       "    </tr>\n",
       "    <tr>\n",
       "      <th>4</th>\n",
       "      <td>32</td>\n",
       "      <td>125000</td>\n",
       "      <td>14</td>\n",
       "      <td>125000</td>\n",
       "      <td>43</td>\n",
       "      <td>100</td>\n",
       "      <td>39</td>\n",
       "      <td>0</td>\n",
       "      <td>0</td>\n",
       "      <td>1</td>\n",
       "      <td>0</td>\n",
       "      <td>1</td>\n",
       "      <td>0</td>\n",
       "      <td>0</td>\n",
       "      <td>1</td>\n",
       "      <td>0</td>\n",
       "      <td>1</td>\n",
       "      <td>0</td>\n",
       "      <td>0</td>\n",
       "      <td>0</td>\n",
       "    </tr>\n",
       "  </tbody>\n",
       "</table>\n",
       "</div>"
      ],
      "text/plain": [
       "   job_title  salary  salary_currency  salary_in_usd  employee_residence  \\\n",
       "0         17   54000                5          64369                   9   \n",
       "1         20   60000                5          68428                  14   \n",
       "2         27   85000               14          85000                  38   \n",
       "3         26  230000               14         230000                  38   \n",
       "4         32  125000               14         125000                  43   \n",
       "\n",
       "   remote_ratio  company_location  company_size_0  company_size_1  \\\n",
       "0            50                10               1               0   \n",
       "1           100                39               1               0   \n",
       "2             0                34               0               1   \n",
       "3            50                34               1               0   \n",
       "4           100                39               0               0   \n",
       "\n",
       "   company_size_2  work_year_0  work_year_1  employment_type_0  \\\n",
       "0               0            0            1                  0   \n",
       "1               0            1            0                  0   \n",
       "2               0            0            1                  0   \n",
       "3               0            0            1                  0   \n",
       "4               1            0            1                  0   \n",
       "\n",
       "   employment_type_1  employment_type_2  employment_type_3  \\\n",
       "0                  0                  1                  0   \n",
       "1                  0                  1                  0   \n",
       "2                  0                  1                  0   \n",
       "3                  0                  1                  0   \n",
       "4                  0                  1                  0   \n",
       "\n",
       "   experience_level_0  experience_level_1  experience_level_2  \\\n",
       "0                   1                   0                   0   \n",
       "1                   0                   0                   0   \n",
       "2                   0                   1                   0   \n",
       "3                   0                   1                   0   \n",
       "4                   1                   0                   0   \n",
       "\n",
       "   experience_level_3  \n",
       "0                   0  \n",
       "1                   1  \n",
       "2                   0  \n",
       "3                   0  \n",
       "4                   0  "
      ]
     },
     "execution_count": 18,
     "metadata": {},
     "output_type": "execute_result"
    }
   ],
   "source": [
    "df.head()"
   ]
  },
  {
   "cell_type": "code",
   "execution_count": 19,
   "id": "bb7cee19",
   "metadata": {
    "ExecuteTime": {
     "end_time": "2022-10-21T11:29:43.422875Z",
     "start_time": "2022-10-21T11:29:41.161241Z"
    }
   },
   "outputs": [],
   "source": [
    "from sklearn.model_selection import train_test_split\n",
    "from sklearn import ensemble\n",
    "from sklearn import metrics\n",
    "\n"
   ]
  },
  {
   "cell_type": "code",
   "execution_count": 20,
   "id": "eb4153de",
   "metadata": {
    "ExecuteTime": {
     "end_time": "2022-10-21T11:30:18.431674Z",
     "start_time": "2022-10-21T11:30:18.423661Z"
    }
   },
   "outputs": [],
   "source": [
    "X = df.drop('salary_in_usd', axis = 1)\n",
    "y = df['salary_in_usd']\n"
   ]
  },
  {
   "cell_type": "code",
   "execution_count": 21,
   "id": "0582ea30",
   "metadata": {
    "ExecuteTime": {
     "end_time": "2022-10-21T11:30:31.394931Z",
     "start_time": "2022-10-21T11:30:31.358925Z"
    }
   },
   "outputs": [],
   "source": [
    "X_train,X_test,y_train,y_test = train_test_split(X,y,random_state=0,test_size=.25)"
   ]
  },
  {
   "cell_type": "code",
   "execution_count": 31,
   "id": "1c028584",
   "metadata": {
    "ExecuteTime": {
     "end_time": "2022-10-21T11:33:37.606183Z",
     "start_time": "2022-10-21T11:33:37.518180Z"
    }
   },
   "outputs": [],
   "source": [
    "model = ensemble.GradientBoostingRegressor()\n",
    "model.fit(X_train,y_train)\n",
    "preds = model.predict(X_test)"
   ]
  },
  {
   "cell_type": "code",
   "execution_count": 32,
   "id": "285cb4d9",
   "metadata": {
    "ExecuteTime": {
     "end_time": "2022-10-21T11:33:37.861999Z",
     "start_time": "2022-10-21T11:33:37.852976Z"
    }
   },
   "outputs": [
    {
     "data": {
      "text/plain": [
       "16337.10077385093"
      ]
     },
     "execution_count": 32,
     "metadata": {},
     "output_type": "execute_result"
    }
   ],
   "source": [
    "metrics.mean_squared_error(y_test,preds,squared=False) #rmse"
   ]
  },
  {
   "cell_type": "markdown",
   "id": "f8a9ecef",
   "metadata": {},
   "source": [
    "**Next Task**\n",
    "Building a Pipeline that wraps all the steps from the preprocessing down to getting a prediction from our model"
   ]
  },
  {
   "cell_type": "code",
   "execution_count": null,
   "id": "91ef341d",
   "metadata": {},
   "outputs": [],
   "source": []
  }
 ],
 "metadata": {
  "kernelspec": {
   "display_name": "Python 3.9.6 64-bit",
   "language": "python",
   "name": "python396jvsc74a57bd0342aa5655132cbf71a715f798c1954c8e10fd62576e079eb1568ff3b5ac83c42"
  },
  "language_info": {
   "codemirror_mode": {
    "name": "ipython",
    "version": 3
   },
   "file_extension": ".py",
   "mimetype": "text/x-python",
   "name": "python",
   "nbconvert_exporter": "python",
   "pygments_lexer": "ipython3",
   "version": "3.9.6"
  }
 },
 "nbformat": 4,
 "nbformat_minor": 5
}
